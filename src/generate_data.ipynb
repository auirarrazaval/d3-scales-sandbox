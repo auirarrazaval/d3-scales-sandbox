{
 "cells": [
  {
   "cell_type": "markdown",
   "metadata": {},
   "source": [
    "# Generador de Datos AY06\n",
    "\n",
    "Pueden usar este generador para generar el archivo `dummy_data.json`.\n",
    "\n",
    "Es posible que no tengan alunas libreras necesarias, pero pueden crear un `venv` e instalarlas (`pip install -r requirements.txt`)"
   ]
  },
  {
   "cell_type": "code",
   "execution_count": 1,
   "metadata": {},
   "outputs": [],
   "source": [
    "from faker import Faker\n",
    "import numpy as np\n",
    "from json import dump\n",
    "from random import shuffle\n",
    "from datetime import datetime\n",
    "from dateutil.relativedelta import relativedelta\n",
    "\n",
    "\n",
    "fake = Faker()\n",
    "\n",
    "N = 100"
   ]
  },
  {
   "cell_type": "code",
   "execution_count": 2,
   "metadata": {},
   "outputs": [],
   "source": [
    "# https://stackoverflow.com/a/16025584/16384621\n",
    "\n",
    "def generate_samples(n=1000, cov=[[0.3, 0.2], [0.2, 0.2]], num_variables = 2):\n",
    "    L = np.linalg.cholesky(cov)\n",
    "\n",
    "    uncorrelated = np.random.standard_normal((num_variables, n))\n",
    "    mean = [1, 1]\n",
    "    correlated = np.dot(L, uncorrelated) + np.array(mean).reshape(2, 1)\n",
    "\n",
    "    return np.concatenate([correlated, uncorrelated]).T"
   ]
  },
  {
   "cell_type": "code",
   "execution_count": 4,
   "metadata": {},
   "outputs": [],
   "source": [
    "data = []\n",
    "\n",
    "for i, (var1, var2, var3, var4) in enumerate(generate_samples(n=N)):\n",
    "    end_date = datetime.now()\n",
    "    start_date = end_date - relativedelta(years=1)\n",
    "    random_date = fake.date_time_between(start_date=\"-1y\", end_date=\"now\")\n",
    "    dif = (end_date.year - random_date.year) * 12 + end_date.month - random_date.month\n",
    "    exp_dif = pow(2, dif)\n",
    "    exp_dif_with_error = np.random.normal(loc = exp_dif, scale = 0.5 * exp_dif)\n",
    "\n",
    "    datum = {\n",
    "        \"id\": i,\n",
    "        \"var_1\": var1,\n",
    "        \"var_2\": var2,\n",
    "        \"var_3\": var3,\n",
    "        \"var_4\": var4,\n",
    "        \"var_5\": max(0.1, exp_dif_with_error),\n",
    "        \"var_6\": random_date.isoformat()\n",
    "    }\n",
    "    data.append(datum)\n",
    "\n",
    "meta_metadata = {\n",
    "        \"var_1\": \"Variable #1\",\n",
    "        \"var_2\": \"Variable #2\",\n",
    "        \"var_3\": \"Variable #3\",\n",
    "        \"var_4\": \"Variable #4\",\n",
    "        \"var_5\": \"Variable #5\",\n",
    "        \"var_6\": \"Variable #6\",\n",
    "        \"id\": \"Id\"\n",
    "    }\n",
    "\n",
    "names = [{\"key\": k, \"name\": v} for k, v in meta_metadata.items()]\n",
    "scaleTypes = [\"Linear\", \"Exponential\", \"Date\"]\n",
    "shuffle(data)\n",
    "\n",
    "with open(\"dummy_data.json\", \"w\", encoding=\"utf-8\") as file:\n",
    "    dump({\n",
    "        \"data\": data,\n",
    "        \"metadata\": {\n",
    "            \"names\": names,\n",
    "            \"scaleTypes\": scaleTypes},\n",
    "    }, file)\n"
   ]
  },
  {
   "cell_type": "code",
   "execution_count": null,
   "metadata": {},
   "outputs": [],
   "source": []
  },
  {
   "cell_type": "code",
   "execution_count": null,
   "metadata": {},
   "outputs": [],
   "source": []
  }
 ],
 "metadata": {
  "interpreter": {
   "hash": "de9061587f1b5ac9e78ed2f3ddbadacd72f1e0c2df567bf71b8240b3c9fc6f26"
  },
  "kernelspec": {
   "display_name": "Python 3.10.0 ('venv': venv)",
   "language": "python",
   "name": "python3"
  },
  "language_info": {
   "codemirror_mode": {
    "name": "ipython",
    "version": 3
   },
   "file_extension": ".py",
   "mimetype": "text/x-python",
   "name": "python",
   "nbconvert_exporter": "python",
   "pygments_lexer": "ipython3",
   "version": "3.10.0"
  },
  "orig_nbformat": 4
 },
 "nbformat": 4,
 "nbformat_minor": 2
}
